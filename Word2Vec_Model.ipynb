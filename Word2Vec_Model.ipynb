{
  "cells": [
    {
      "cell_type": "code",
      "execution_count": null,
      "metadata": {
        "id": "n9UwI-n5tN8C"
      },
      "outputs": [],
      "source": [
        "from gensim.models import Word2Vec\n",
        "import pandas as pd\n",
        "import os\n",
        "\n",
        "#os.chdir('C:/Users/msali/PycharmProjects/RasaProject/external_data/reviews_combined_amazon.csv')"
      ]
    },
    {
      "cell_type": "code",
      "execution_count": null,
      "metadata": {
        "id": "kJd6MwHTtN8I"
      },
      "outputs": [],
      "source": [
        "combined_reviews = pd.read_csv(\"/content/3.1 reviews_combined_amazon.csv\")"
      ]
    },
    {
      "cell_type": "code",
      "execution_count": null,
      "metadata": {
        "colab": {
          "base_uri": "https://localhost:8080/"
        },
        "id": "aHPtDKd1tN8J",
        "outputId": "debbad5d-018b-4790-f329-7cb7a2fa9e0c"
      },
      "outputs": [
        {
          "output_type": "execute_result",
          "data": {
            "text/plain": [
              "(24630, 10)"
            ]
          },
          "metadata": {},
          "execution_count": 13
        }
      ],
      "source": [
        "combined_reviews.shape"
      ]
    },
    {
      "cell_type": "code",
      "execution_count": null,
      "metadata": {
        "colab": {
          "base_uri": "https://localhost:8080/",
          "height": 528
        },
        "id": "aoy2cHURtN8L",
        "outputId": "237e5baa-78db-4e8e-bfdd-d6cf465ab0a9"
      },
      "outputs": [
        {
          "output_type": "execute_result",
          "data": {
            "text/plain": [
              "   Unnamed: 0       review_id  \\\n",
              "0           0  R2883ZZX8S4DBO   \n",
              "1           1   R58XXWQ96EJT9   \n",
              "2           2  R2MFM9SKZO2BCT   \n",
              "3           3   RKCN05H7J4N9D   \n",
              "4           4   RLT2QWB4HQGTJ   \n",
              "\n",
              "                                         product_url review_author  \\\n",
              "0  https://www.amazon.in/Redmi-6A-Black-2GBRAM-St...           NaN   \n",
              "1  https://www.amazon.in/Redmi-6A-Black-2GBRAM-St...           NaN   \n",
              "2  https://www.amazon.in/Redmi-6A-Black-2GBRAM-St...           NaN   \n",
              "3  https://www.amazon.in/Redmi-6A-Black-2GBRAM-St...           NaN   \n",
              "4  https://www.amazon.in/Redmi-6A-Black-2GBRAM-St...           NaN   \n",
              "\n",
              "  Verified Buyer                                       review_title  \\\n",
              "0            Yes  Redmi 6A hangs and lags while using. Redmi 5A ...   \n",
              "1            Yes                          GOOd budget phone, but...   \n",
              "2            Yes  Exceptional value 😍 Perfect phone for any use,...   \n",
              "3            Yes                   Bought because of Dual 4g volte(   \n",
              "4            Yes  Don't buy - 2nd Sim slot problem and battery p...   \n",
              "\n",
              "                                         review_text               stars  \\\n",
              "0  Redmi 6A has lag problems. This phone is hangi...  3.0 out of 5 stars   \n",
              "1  Pros: 1) Decent Video/audio recording with min...  3.0 out of 5 stars   \n",
              "2  Love the phone. Everything on it works as expe...  4.0 out of 5 stars   \n",
              "3  If u want to gift for parents I think this wil...  5.0 out of 5 stars   \n",
              "4  Don't buy this product. It is not recognizing ...  1.0 out of 5 stars   \n",
              "\n",
              "                                     date review votes  \n",
              "0  Reviewed in India on 30 September 2018         Null  \n",
              "1    Reviewed in India on 25 October 2018         Null  \n",
              "2   Reviewed in India on 14 November 2018         Null  \n",
              "3    Reviewed in India on 30 October 2018         Null  \n",
              "4     Reviewed in India on 8 October 2018         Null  "
            ],
            "text/html": [
              "\n",
              "  <div id=\"df-ee1f59ff-215a-4d43-b006-553d706a7ce3\">\n",
              "    <div class=\"colab-df-container\">\n",
              "      <div>\n",
              "<style scoped>\n",
              "    .dataframe tbody tr th:only-of-type {\n",
              "        vertical-align: middle;\n",
              "    }\n",
              "\n",
              "    .dataframe tbody tr th {\n",
              "        vertical-align: top;\n",
              "    }\n",
              "\n",
              "    .dataframe thead th {\n",
              "        text-align: right;\n",
              "    }\n",
              "</style>\n",
              "<table border=\"1\" class=\"dataframe\">\n",
              "  <thead>\n",
              "    <tr style=\"text-align: right;\">\n",
              "      <th></th>\n",
              "      <th>Unnamed: 0</th>\n",
              "      <th>review_id</th>\n",
              "      <th>product_url</th>\n",
              "      <th>review_author</th>\n",
              "      <th>Verified Buyer</th>\n",
              "      <th>review_title</th>\n",
              "      <th>review_text</th>\n",
              "      <th>stars</th>\n",
              "      <th>date</th>\n",
              "      <th>review votes</th>\n",
              "    </tr>\n",
              "  </thead>\n",
              "  <tbody>\n",
              "    <tr>\n",
              "      <th>0</th>\n",
              "      <td>0</td>\n",
              "      <td>R2883ZZX8S4DBO</td>\n",
              "      <td>https://www.amazon.in/Redmi-6A-Black-2GBRAM-St...</td>\n",
              "      <td>NaN</td>\n",
              "      <td>Yes</td>\n",
              "      <td>Redmi 6A hangs and lags while using. Redmi 5A ...</td>\n",
              "      <td>Redmi 6A has lag problems. This phone is hangi...</td>\n",
              "      <td>3.0 out of 5 stars</td>\n",
              "      <td>Reviewed in India on 30 September 2018</td>\n",
              "      <td>Null</td>\n",
              "    </tr>\n",
              "    <tr>\n",
              "      <th>1</th>\n",
              "      <td>1</td>\n",
              "      <td>R58XXWQ96EJT9</td>\n",
              "      <td>https://www.amazon.in/Redmi-6A-Black-2GBRAM-St...</td>\n",
              "      <td>NaN</td>\n",
              "      <td>Yes</td>\n",
              "      <td>GOOd budget phone, but...</td>\n",
              "      <td>Pros: 1) Decent Video/audio recording with min...</td>\n",
              "      <td>3.0 out of 5 stars</td>\n",
              "      <td>Reviewed in India on 25 October 2018</td>\n",
              "      <td>Null</td>\n",
              "    </tr>\n",
              "    <tr>\n",
              "      <th>2</th>\n",
              "      <td>2</td>\n",
              "      <td>R2MFM9SKZO2BCT</td>\n",
              "      <td>https://www.amazon.in/Redmi-6A-Black-2GBRAM-St...</td>\n",
              "      <td>NaN</td>\n",
              "      <td>Yes</td>\n",
              "      <td>Exceptional value 😍 Perfect phone for any use,...</td>\n",
              "      <td>Love the phone. Everything on it works as expe...</td>\n",
              "      <td>4.0 out of 5 stars</td>\n",
              "      <td>Reviewed in India on 14 November 2018</td>\n",
              "      <td>Null</td>\n",
              "    </tr>\n",
              "    <tr>\n",
              "      <th>3</th>\n",
              "      <td>3</td>\n",
              "      <td>RKCN05H7J4N9D</td>\n",
              "      <td>https://www.amazon.in/Redmi-6A-Black-2GBRAM-St...</td>\n",
              "      <td>NaN</td>\n",
              "      <td>Yes</td>\n",
              "      <td>Bought because of Dual 4g volte(</td>\n",
              "      <td>If u want to gift for parents I think this wil...</td>\n",
              "      <td>5.0 out of 5 stars</td>\n",
              "      <td>Reviewed in India on 30 October 2018</td>\n",
              "      <td>Null</td>\n",
              "    </tr>\n",
              "    <tr>\n",
              "      <th>4</th>\n",
              "      <td>4</td>\n",
              "      <td>RLT2QWB4HQGTJ</td>\n",
              "      <td>https://www.amazon.in/Redmi-6A-Black-2GBRAM-St...</td>\n",
              "      <td>NaN</td>\n",
              "      <td>Yes</td>\n",
              "      <td>Don't buy - 2nd Sim slot problem and battery p...</td>\n",
              "      <td>Don't buy this product. It is not recognizing ...</td>\n",
              "      <td>1.0 out of 5 stars</td>\n",
              "      <td>Reviewed in India on 8 October 2018</td>\n",
              "      <td>Null</td>\n",
              "    </tr>\n",
              "  </tbody>\n",
              "</table>\n",
              "</div>\n",
              "      <button class=\"colab-df-convert\" onclick=\"convertToInteractive('df-ee1f59ff-215a-4d43-b006-553d706a7ce3')\"\n",
              "              title=\"Convert this dataframe to an interactive table.\"\n",
              "              style=\"display:none;\">\n",
              "        \n",
              "  <svg xmlns=\"http://www.w3.org/2000/svg\" height=\"24px\"viewBox=\"0 0 24 24\"\n",
              "       width=\"24px\">\n",
              "    <path d=\"M0 0h24v24H0V0z\" fill=\"none\"/>\n",
              "    <path d=\"M18.56 5.44l.94 2.06.94-2.06 2.06-.94-2.06-.94-.94-2.06-.94 2.06-2.06.94zm-11 1L8.5 8.5l.94-2.06 2.06-.94-2.06-.94L8.5 2.5l-.94 2.06-2.06.94zm10 10l.94 2.06.94-2.06 2.06-.94-2.06-.94-.94-2.06-.94 2.06-2.06.94z\"/><path d=\"M17.41 7.96l-1.37-1.37c-.4-.4-.92-.59-1.43-.59-.52 0-1.04.2-1.43.59L10.3 9.45l-7.72 7.72c-.78.78-.78 2.05 0 2.83L4 21.41c.39.39.9.59 1.41.59.51 0 1.02-.2 1.41-.59l7.78-7.78 2.81-2.81c.8-.78.8-2.07 0-2.86zM5.41 20L4 18.59l7.72-7.72 1.47 1.35L5.41 20z\"/>\n",
              "  </svg>\n",
              "      </button>\n",
              "      \n",
              "  <style>\n",
              "    .colab-df-container {\n",
              "      display:flex;\n",
              "      flex-wrap:wrap;\n",
              "      gap: 12px;\n",
              "    }\n",
              "\n",
              "    .colab-df-convert {\n",
              "      background-color: #E8F0FE;\n",
              "      border: none;\n",
              "      border-radius: 50%;\n",
              "      cursor: pointer;\n",
              "      display: none;\n",
              "      fill: #1967D2;\n",
              "      height: 32px;\n",
              "      padding: 0 0 0 0;\n",
              "      width: 32px;\n",
              "    }\n",
              "\n",
              "    .colab-df-convert:hover {\n",
              "      background-color: #E2EBFA;\n",
              "      box-shadow: 0px 1px 2px rgba(60, 64, 67, 0.3), 0px 1px 3px 1px rgba(60, 64, 67, 0.15);\n",
              "      fill: #174EA6;\n",
              "    }\n",
              "\n",
              "    [theme=dark] .colab-df-convert {\n",
              "      background-color: #3B4455;\n",
              "      fill: #D2E3FC;\n",
              "    }\n",
              "\n",
              "    [theme=dark] .colab-df-convert:hover {\n",
              "      background-color: #434B5C;\n",
              "      box-shadow: 0px 1px 3px 1px rgba(0, 0, 0, 0.15);\n",
              "      filter: drop-shadow(0px 1px 2px rgba(0, 0, 0, 0.3));\n",
              "      fill: #FFFFFF;\n",
              "    }\n",
              "  </style>\n",
              "\n",
              "      <script>\n",
              "        const buttonEl =\n",
              "          document.querySelector('#df-ee1f59ff-215a-4d43-b006-553d706a7ce3 button.colab-df-convert');\n",
              "        buttonEl.style.display =\n",
              "          google.colab.kernel.accessAllowed ? 'block' : 'none';\n",
              "\n",
              "        async function convertToInteractive(key) {\n",
              "          const element = document.querySelector('#df-ee1f59ff-215a-4d43-b006-553d706a7ce3');\n",
              "          const dataTable =\n",
              "            await google.colab.kernel.invokeFunction('convertToInteractive',\n",
              "                                                     [key], {});\n",
              "          if (!dataTable) return;\n",
              "\n",
              "          const docLinkHtml = 'Like what you see? Visit the ' +\n",
              "            '<a target=\"_blank\" href=https://colab.research.google.com/notebooks/data_table.ipynb>data table notebook</a>'\n",
              "            + ' to learn more about interactive tables.';\n",
              "          element.innerHTML = '';\n",
              "          dataTable['output_type'] = 'display_data';\n",
              "          await google.colab.output.renderOutput(dataTable, element);\n",
              "          const docLink = document.createElement('div');\n",
              "          docLink.innerHTML = docLinkHtml;\n",
              "          element.appendChild(docLink);\n",
              "        }\n",
              "      </script>\n",
              "    </div>\n",
              "  </div>\n",
              "  "
            ]
          },
          "metadata": {},
          "execution_count": 14
        }
      ],
      "source": [
        "combined_reviews.head()"
      ]
    },
    {
      "cell_type": "code",
      "execution_count": null,
      "metadata": {
        "id": "7Icsq1RvtN8M"
      },
      "outputs": [],
      "source": [
        "combined_reviews['review_title_text'] = combined_reviews['review_title'].apply(lambda x:str(x)) + \" \" + combined_reviews['review_text'].apply(lambda x:str(x))"
      ]
    },
    {
      "cell_type": "code",
      "execution_count": null,
      "metadata": {
        "id": "Rq6ZwbaotN8N"
      },
      "outputs": [],
      "source": [
        "reviews_title_text_list = combined_reviews['review_title_text'].to_list()"
      ]
    },
    {
      "cell_type": "code",
      "execution_count": null,
      "metadata": {
        "colab": {
          "base_uri": "https://localhost:8080/"
        },
        "id": "OpU_ofyGtN8N",
        "outputId": "a57b9bf2-ac44-47dd-d4df-9a9a3a7ac5ac"
      },
      "outputs": [
        {
          "output_type": "execute_result",
          "data": {
            "text/plain": [
              "['Redmi 6A hangs and lags while using. Redmi 5A is better than this phone. Redmi 6A has lag problems. This phone is hanging and lags while using YouTube and browser.Redmi 5A is far better than Redmi 6A. I am regretting on my decision for buying this phone. Not satisfied.',\n",
              " \"GOOd budget phone, but... Pros: 1) Decent Video/audio recording with minimum distortion. (noise cancellation is much much better than Redmi 5a) 2) Decent Camera for a budget phone. 3) good for Android smartphone beginners. 4) Can run 3-4 apps in the background without lag/hanging. 5) Fast boot. 6) Good touch response for a budget phone, I find it to extra sensitive. hahaCons: 1) Bad Video quality for watching movies/ you tube. But I use phone only for calls, whatsapp and sometimes Instagram. I use my laptop to watch movies, so not a big deal for me. 2) Unable to share Internet hotspot to computer/Laptop. But I posted a tip on how to solve this problem in MI community India. All you need to do is download an app called PDANet+ (available in Google play store) in both your phone and computer. Go and check it out. Apart from the few drawbacks mentioned above, this phone is quite good for a budget phone. If you can live without the good video quality by watching movies/videos on another device, go for it. The 1440X720 resolution is much worse compared to Redmi 5a's 1280X720. In fact Redmi 5a's video/picture resolution is much better and detailed compared to Redmi 6a. Ordered and received another redmi 6a for my dad.\",\n",
              " \"Exceptional value 😍 Perfect phone for any use, beautifully built. Love the phone. Everything on it works as expected. I've been using this phone for about 1 weeks, and so far I'm loving it. Here's me breakdown:The quality, fit and finish are amazing. No one believes this is low priced phone.Battery: exceptional battery life, the best in any smartphone I've had so far.Build/design: one of the best smartphone designs and build quality I've used, even compared to much more expensive models.Camera: not as good as my Honor 7C, but still takes good enough pictures that it's not really a problem for me.Really littil bit difficult to find fault with this phone, especially for the price even I don't like the audio quality. overall Best Product. Durable solid feel, very responsive and works great overall.\",\n",
              " \"Bought because of Dual 4g volte( If u want to gift for parents I think this will be good option.This phone is not for heavy users that doesn't mean that u cannot use this for daily use .Yes u can use but playing heavy games like pubg etc will impact the performance.For the price this phone is good.Pros: Build quality is decent,Camera is good both front and back for this price ,display is good,decent battery life,Dual 4g volte ...Cons: Performance is average not the best in this price range but for daily use this will phone will be good.Should have provided case or screen guard in the box.I am not the big fan of miui (It is personal preference)Annoying Ads in miui .(Hope this comment is helpful)\",\n",
              " \"Don't buy - 2nd Sim slot problem and battery problem. Go for other mobiles. Don't buy this product. It is not recognizing the second Sim. Its a different and a saperate slot for 2nd sim unlike the other phones and the phone is not recognizing the 2nd slot. It's better if both the SIM cards are placed in single slot. Battery backup is very low, you will need to charge twice daily.\",\n",
              " \"A budget Smart Phone ❤ It's a very good choice on a small budget. I tell You Why...Screen -IPS Screen with HD+ (720*1440) Display , It looks very NiceEasy to read in Day Light.Note - Mobile screen has round shape (but screen shot has corners , IDK how)Battery -I have submitted screen shots about battery uses (It is without sim card)It took 19 hours, from 100 percent to 81 percent (with screen on 33 minutes and with no sim card)So in my opinion battery is decent enough for a day useCamera -I have submitted the photo sample . You can check in ti photos . these photos are taken in day lightcamera is good for day light shooting.SoundSound quality is good, in Speaker as well as in earphone (Earphone is not provided with handset)Phone speaker is loud enough to fill a roomOS and UIComes with android version 8.1 😊UI is Great , Easy to understand.It comes with some unnecessary pre-loaded apps which can be deleted (but not the MI apps)Network CallingI have used it in whatsapp calling only and the voice clarity was good, no issue.I will update my review after 1-2 weeks of use .Recommended ?Yes, Best smart phone according to the budget.\",\n",
              " \"Extremely poor camera. The cameras both front and rear are a huge disappointment as compared to redmi 4 and redmi 5a. I fail to understand how they could deteriorate it from previous phones. Portrait mode doesn't work properly either. I don't expect the camera of S8 or iPhone in 6000 but other phones in the same price range certainly have better to offer. Other features work well but I was really let down with the camera this time.\",\n",
              " 'Processor issue Processor is so bad.and not working properly.so please note this point.otherwise redmi 5a processor is so good',\n",
              " 'Pretty decent overall performance Awesome entry level smartphone. Face unlock works a bit slow. But okay. The processor is less power consuming. Full screen display works like charm. A five star for 1.5 day delivery by Amazon. Redmi has lot improved in the music quality section. Pretty decent overall performance. Good choice. Go for it in 6k budget before price rise again.',\n",
              " 'Amazon Mi teller are fraud The phone which I purchased through amazon is a worst, I cannot trust amazon anymore, I purchased Redmi 6A on 12th of Nov. I own the phone tried using it, since its a dual sim, I inserted my two sim, n tried using,the second sim was not detectable, I took out again n tried inserting again,the same thing was showing on, I took the new phone to a mobile shop to show it, den the shopkeeper said the motherboard is not good, so funny the new phone which I purchased was from amazon redmi 6A,is not a good phone, I have kept the phone to change the mother board..worst experience ever...']"
            ]
          },
          "metadata": {},
          "execution_count": 17
        }
      ],
      "source": [
        "reviews_title_text_list[0:10]"
      ]
    },
    {
      "cell_type": "code",
      "execution_count": null,
      "metadata": {
        "id": "E-6nXWz7tN8O"
      },
      "outputs": [],
      "source": [
        "#[['I','bought', 'a', 'phone']]\n",
        "sentence_stream = [doc.split(\" \") for doc in reviews_title_text_list]"
      ]
    },
    {
      "cell_type": "code",
      "execution_count": null,
      "metadata": {
        "id": "IR--R6GttN8P"
      },
      "outputs": [],
      "source": [
        "#sentence_steam[0:10]\n",
        "from gensim.models import Phrases\n",
        "from gensim.models.phrases import Phraser\n",
        "bigram = Phrases(sentence_stream, min_count=2,threshold = 5, delimiter=b' ')\n",
        "bigram_phraser = Phraser(bigram)"
      ]
    },
    {
      "cell_type": "code",
      "execution_count": null,
      "metadata": {
        "id": "bb0XSC1ItN8Q"
      },
      "outputs": [],
      "source": [
        "tokens_list = []\n",
        "for sent in sentence_stream:\n",
        "    tokens_ = bigram_phraser[sent]\n",
        "    tokens_list.append(tokens_)"
      ]
    },
    {
      "cell_type": "code",
      "execution_count": null,
      "metadata": {
        "colab": {
          "base_uri": "https://localhost:8080/"
        },
        "id": "4OrcRW7JtN8R",
        "outputId": "27236c77-51b4-4d33-cd68-a2db87643b35"
      },
      "outputs": [
        {
          "output_type": "stream",
          "name": "stdout",
          "text": [
            "[['Redmi 6A', 'hangs', 'and', 'lags while', 'using.', 'Redmi 5A', 'is', 'better than', 'this phone.', 'Redmi 6A', 'has', 'lag', 'problems.', 'This phone', 'is', 'hanging', 'and', 'lags while', 'using', 'YouTube', 'and', 'browser.Redmi', '5A', 'is', 'far better', 'than Redmi', '6A.', 'I am', 'regretting', 'on', 'my decision', 'for', 'buying this', 'phone.', 'Not', 'satisfied.'], ['GOOd', 'budget phone,', 'but...', 'Pros:', '1)', 'Decent', 'Video/audio', 'recording', 'with minimum', 'distortion.', '(noise', 'cancellation is', 'much', 'much better', 'than Redmi', '5a)', '2)', 'Decent Camera', 'for', 'a', 'budget phone.', '3)', 'good', 'for', 'Android smartphone', 'beginners.', '4)', 'Can run', '3-4', 'apps', 'in', 'the', 'background', 'without', 'lag/hanging.', '5)', 'Fast boot.', '6)', 'Good', 'touch response', 'for', 'a', 'budget phone,', 'I', 'find', 'it', 'to', 'extra', 'sensitive.', 'hahaCons:', '1)', 'Bad', 'Video quality', 'for', 'watching', 'movies/', 'you', 'tube.', 'But', 'I', 'use', 'phone', 'only', 'for', 'calls,', 'whatsapp', 'and', 'sometimes', 'Instagram.', 'I', 'use', 'my', 'laptop', 'to watch', 'movies,', 'so', 'not', 'a big', 'deal', 'for me.', '2)', 'Unable to', 'share', 'Internet', 'hotspot', 'to', 'computer/Laptop.', 'But', 'I', 'posted', 'a', 'tip', 'on', 'how', 'to solve', 'this', 'problem', 'in', 'MI', 'community', 'India.', 'All', 'you need', 'to', 'do', 'is', 'download', 'an app', 'called', 'PDANet+', '(available', 'in', 'Google play', 'store)', 'in', 'both', 'your', 'phone', 'and', 'computer.', 'Go', 'and', 'check', 'it', 'out.', 'Apart from', 'the', 'few', 'drawbacks', 'mentioned', 'above,', 'this phone', 'is quite', 'good', 'for', 'a', 'budget phone.', 'If you', 'can live', 'without', 'the', 'good', 'video', 'quality', 'by', 'watching', 'movies/videos', 'on', 'another', 'device,', 'go for', 'it.', 'The', '1440X720', 'resolution', 'is', 'much worse', 'compared to', 'Redmi', \"5a's\", '1280X720.', 'In', 'fact', 'Redmi', \"5a's\", 'video/picture', 'resolution', 'is', 'much better', 'and', 'detailed', 'compared to', 'Redmi', '6a.', 'Ordered', 'and', 'received', 'another', 'redmi 6a', 'for', 'my dad.'], ['Exceptional', 'value', '😍', 'Perfect', 'phone', 'for', 'any', 'use,', 'beautifully', 'built.', 'Love', 'the', 'phone.', 'Everything', 'on', 'it', 'works', 'as expected.', \"I've been\", 'using this', 'phone', 'for', 'about', '1', 'weeks,', 'and', 'so far', \"I'm loving\", 'it.', \"Here's\", 'me', 'breakdown:The', 'quality,', 'fit', 'and', 'finish', 'are amazing.', 'No', 'one', 'believes', 'this', 'is', 'low priced', 'phone.Battery:', 'exceptional', 'battery life,', 'the best', 'in', 'any', 'smartphone', \"I've had\", 'so', 'far.Build/design:', 'one', 'of', 'the best', 'smartphone', 'designs', 'and', 'build quality', \"I've\", 'used,', 'even', 'compared to', 'much more', 'expensive', 'models.Camera:', 'not', 'as', 'good', 'as', 'my', 'Honor', '7C,', 'but still', 'takes', 'good enough', 'pictures', 'that', \"it's\", 'not', 'really', 'a', 'problem', 'for', 'me.Really', 'littil', 'bit difficult', 'to', 'find', 'fault', 'with', 'this phone,', 'especially', 'for', 'the', 'price', 'even', \"I don't\", 'like', 'the', 'audio quality.', 'overall', 'Best', 'Product.', 'Durable', 'solid', 'feel,', 'very responsive', 'and', 'works', 'great overall.'], ['Bought', 'because of', 'Dual', '4g', 'volte(', 'If u', 'want to', 'gift', 'for parents', 'I think', 'this', 'will be', 'good', 'option.This', 'phone', 'is', 'not', 'for', 'heavy users', 'that', \"doesn't\", 'mean', 'that', 'u cannot', 'use', 'this', 'for daily', 'use', '.Yes', 'u can', 'use', 'but', 'playing heavy', 'games like', 'pubg', 'etc', 'will', 'impact', 'the', 'performance.For', 'the', 'price', 'this phone', 'is', 'good.Pros:', 'Build quality', 'is', 'decent,Camera', 'is', 'good', 'both front', 'and', 'back', 'for', 'this price', ',display', 'is', 'good,decent', 'battery', 'life,Dual', '4g volte', '...Cons:', 'Performance is', 'average', 'not', 'the best', 'in', 'this price', 'range', 'but', 'for daily', 'use', 'this', 'will', 'phone', 'will be', 'good.Should', 'have provided', 'case', 'or', 'screen guard', 'in', 'the box.I', 'am', 'not', 'the', 'big fan', 'of', 'miui', '(It', 'is', 'personal', 'preference)Annoying', 'Ads', 'in', 'miui', '.(Hope', 'this', 'comment', 'is', 'helpful)'], [\"Don't buy\", '-', '2nd', 'Sim slot', 'problem', 'and', 'battery', 'problem.', 'Go for', 'other mobiles.', \"Don't buy\", 'this product.', 'It', 'is', 'not recognizing', 'the', 'second', 'Sim.', 'Its', 'a', 'different', 'and', 'a', 'saperate', 'slot', 'for', '2nd sim', 'unlike', 'the', 'other phones', 'and', 'the', 'phone', 'is', 'not recognizing', 'the', '2nd', 'slot.', \"It's\", 'better', 'if', 'both', 'the', 'SIM cards', 'are', 'placed', 'in', 'single', 'slot.', 'Battery backup', 'is', 'very low,', 'you will', 'need to', 'charge', 'twice', 'daily.']]\n"
          ]
        }
      ],
      "source": [
        "print(tokens_list[0:5])"
      ]
    },
    {
      "cell_type": "code",
      "execution_count": null,
      "metadata": {
        "id": "UlssPuGstN8R"
      },
      "outputs": [],
      "source": [
        "model = Word2Vec(tokens_list, size=200, window=5)"
      ]
    },
    {
      "cell_type": "code",
      "execution_count": null,
      "metadata": {
        "id": "6_AEjhvLtN8S",
        "outputId": "ad4acfa0-e459-41d7-ddae-6c5fdc24e598",
        "colab": {
          "base_uri": "https://localhost:8080/"
        }
      },
      "outputs": [
        {
          "output_type": "execute_result",
          "data": {
            "text/plain": [
              "[('oxygen os', 0.996466875076294),\n",
              " ('camera!', 0.9925490617752075),\n",
              " ('images', 0.9924924373626709),\n",
              " ('clean', 0.9924387335777283),\n",
              " ('fingerprint.', 0.9923019409179688),\n",
              " ('nightscape', 0.9918961524963379),\n",
              " ('dash charge', 0.9918181896209717),\n",
              " ('bigger', 0.9914742708206177),\n",
              " ('studio', 0.9913227558135986),\n",
              " ('so smooth', 0.9911853671073914)]"
            ]
          },
          "metadata": {},
          "execution_count": 23
        }
      ],
      "source": [
        "model.wv.most_similar('lens')"
      ]
    },
    {
      "cell_type": "code",
      "execution_count": null,
      "metadata": {
        "id": "EWEoaegLtN8S"
      },
      "outputs": [],
      "source": [
        "model.wv.save_word2vec_format(\"word2vec_shopping.txt\")"
      ]
    },
    {
      "cell_type": "code",
      "execution_count": null,
      "metadata": {
        "id": "_WvUSMbTtN8T"
      },
      "outputs": [],
      "source": [
        "import gzip\n",
        "\n",
        "fp = open(\"word2vec_shopping.txt\",'rb')\n",
        "data = fp.read()\n",
        "\n",
        "bindata = bytearray(data)\n",
        "\n",
        "with gzip.open(\"word2vec_shopping.txt.gz\",'wb') as f:\n",
        "    f.write(bindata)"
      ]
    },
    {
      "cell_type": "code",
      "execution_count": null,
      "metadata": {
        "id": "x5_x6ZlztN8T"
      },
      "outputs": [],
      "source": []
    }
  ],
  "metadata": {
    "kernelspec": {
      "display_name": "Python 3",
      "language": "python",
      "name": "python3"
    },
    "language_info": {
      "codemirror_mode": {
        "name": "ipython",
        "version": 3
      },
      "file_extension": ".py",
      "mimetype": "text/x-python",
      "name": "python",
      "nbconvert_exporter": "python",
      "pygments_lexer": "ipython3",
      "version": "3.7.3"
    },
    "colab": {
      "provenance": []
    }
  },
  "nbformat": 4,
  "nbformat_minor": 0
}